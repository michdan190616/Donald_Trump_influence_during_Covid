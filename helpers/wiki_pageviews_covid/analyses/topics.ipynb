{
 "cells": [
  {
   "cell_type": "code",
   "execution_count": 1,
   "metadata": {},
   "outputs": [
    {
     "ename": "ModuleNotFoundError",
     "evalue": "No module named 'statsmodels'",
     "output_type": "error",
     "traceback": [
      "\u001b[0;31m---------------------------------------------------------------------------\u001b[0m",
      "\u001b[0;31mModuleNotFoundError\u001b[0m                       Traceback (most recent call last)",
      "Cell \u001b[0;32mIn[1], line 17\u001b[0m\n\u001b[1;32m     13\u001b[0m \u001b[38;5;28;01mimport\u001b[39;00m \u001b[38;5;21;01mmatplotlib\u001b[39;00m\u001b[38;5;21;01m.\u001b[39;00m\u001b[38;5;21;01mtransforms\u001b[39;00m \u001b[38;5;28;01mas\u001b[39;00m \u001b[38;5;21;01mtransforms\u001b[39;00m\n\u001b[1;32m     16\u001b[0m \u001b[38;5;28;01mfrom\u001b[39;00m \u001b[38;5;21;01mmatplotlib\u001b[39;00m \u001b[38;5;28;01mimport\u001b[39;00m pyplot \u001b[38;5;28;01mas\u001b[39;00m plt\n\u001b[0;32m---> 17\u001b[0m \u001b[38;5;28;01mimport\u001b[39;00m \u001b[38;5;21;01mstatsmodels\u001b[39;00m\u001b[38;5;21;01m.\u001b[39;00m\u001b[38;5;21;01mformula\u001b[39;00m\u001b[38;5;21;01m.\u001b[39;00m\u001b[38;5;21;01mapi\u001b[39;00m \u001b[38;5;28;01mas\u001b[39;00m \u001b[38;5;21;01msmf\u001b[39;00m\n\u001b[1;32m     18\u001b[0m \u001b[38;5;28;01mimport\u001b[39;00m \u001b[38;5;21;01mdatetime\u001b[39;00m\n\u001b[1;32m     19\u001b[0m \u001b[38;5;28;01mimport\u001b[39;00m \u001b[38;5;21;01mstatsmodels\u001b[39;00m\n",
      "\u001b[0;31mModuleNotFoundError\u001b[0m: No module named 'statsmodels'"
     ]
    }
   ],
   "source": [
    "%load_ext autoreload\n",
    "%autoreload 2\n",
    "\n",
    "import math\n",
    "import pandas as pd\n",
    "import seaborn as sns\n",
    "import warnings\n",
    "%matplotlib inline\n",
    "pd.set_option('display.max_columns', 500)\n",
    "pd.set_option('display.max_rows', 1000)\n",
    "import numpy as np\n",
    "import pandas as pd\n",
    "import matplotlib.transforms as transforms\n",
    "\n",
    "\n",
    "from matplotlib import pyplot as plt\n",
    "import statsmodels.formula.api as smf\n",
    "import datetime\n",
    "import statsmodels\n",
    "\n",
    "# Local Modules\n",
    "import sys\n",
    "import os.path\n",
    "sys.path.insert(0, os.path.abspath('/scratch/horta/coronawiki/'))\n",
    "from helpers.load import load_interventions, load_aggregated, load_topics\n",
    "from helpers.vars import codes, helper_langs, interventions_helper, topics, codes\n",
    "from helpers.plot import set_size, plot_dates, plot_interventions\n",
    "from helpers.topics import order_topics, colors_z, get_df_pageviews_topics\n",
    "from helpers.diffs_n_diffs import get_standard_error_sum\n",
    "from dateutil.relativedelta import relativedelta"
   ]
  },
  {
   "cell_type": "code",
   "execution_count": null,
   "metadata": {
    "pycharm": {
     "name": "#%%\n"
    }
   },
   "outputs": [],
   "source": [
    "# Latex Configuration\n",
    "import matplotlib.font_manager as font_manager\n",
    "from matplotlib.lines import Line2D\n",
    "import matplotlib.ticker as mtick\n",
    "import matplotlib.pyplot as plt\n",
    "import matplotlib as mpl\n",
    "import seaborn as sns\n",
    "import os\n",
    "# fontpath = os.path.expanduser('~/LinLibertine_DRah.ttf')\n",
    "# prop = font_manager.FontProperties(fname=fontpath)\n",
    "\n",
    "params = {\n",
    "    \"axes.titlesize\" : 14,\n",
    "    'axes.labelsize': 12,\n",
    "    'font.size': 12,\n",
    "    'legend.fontsize': 12,\n",
    "    'xtick.labelsize': 13,\n",
    "    'ytick.labelsize': 13,\n",
    "#     'font.family': 'Linux Libertine Display',\n",
    "    'text.usetex': True\n",
    "}\n",
    "\n",
    "mpl.rcParams.update(params)"
   ]
  },
  {
   "cell_type": "markdown",
   "metadata": {},
   "source": [
    "## Loads Data"
   ]
  },
  {
   "cell_type": "code",
   "execution_count": null,
   "metadata": {
    "pycharm": {
     "name": "#%%\n"
    }
   },
   "outputs": [],
   "source": [
    "interventions = load_interventions(\"../data/interventions.csv\")\n",
    "topics_df, topics = load_topics('../data/topics_linked.csv.xz')\n",
    "agg = load_aggregated(\"../data/aggregated_timeseries.json.gz\")\n",
    "codes_order = [\"sr\", \"it\", \"fr\", \"en\", \"nl\", \"ko\", \"de\", \"fi\", \"ja\", \"no\", \"sv\", \"da\"]\n",
    "time_int = 35"
   ]
  },
  {
   "cell_type": "markdown",
   "metadata": {},
   "source": [
    "## Performs diffs-in-diffs"
   ]
  },
  {
   "cell_type": "code",
   "execution_count": null,
   "metadata": {
    "pycharm": {
     "name": "#%%\n"
    },
    "scrolled": true
   },
   "outputs": [],
   "source": [
    "mobility = lambda x, delta: interventions[x.replace(\".m\", \"\")][\"Mobility\"] + delta\n",
    "normalcy = lambda x, delta: interventions[x.replace(\".m\", \"\")][\"Normalcy\"] + delta\n",
    "\n",
    "df_pageviews, df_pageviews_results = get_df_pageviews_topics(agg, \n",
    "                                                      mobility, relativedelta(days=0),\n",
    "                                                      mobility, relativedelta(days=0),\n",
    "                                                      time_int)\n",
    "\n",
    "df_pageviews_norm, df_pageviews_norm_results = get_df_pageviews_topics(agg, \n",
    "                                                                mobility, relativedelta(days=time_int), \n",
    "                                                                normalcy, relativedelta(days=0), \n",
    "                                                                time_int)\n",
    "\n",
    "df_pageviews_norm2, df_pageviews_norm_results2 = get_df_pageviews_topics(agg, \n",
    "                                                            mobility, relativedelta(days=0),\n",
    "                                                            normalcy, relativedelta(days=0),\n",
    "                                                            time_int)"
   ]
  },
  {
   "cell_type": "markdown",
   "metadata": {},
   "source": [
    "## Plots image"
   ]
  },
  {
   "cell_type": "code",
   "execution_count": null,
   "metadata": {
    "pycharm": {
     "name": "#%%\n"
    }
   },
   "outputs": [],
   "source": [
    "fig, axes = plt.subplots(1, 3, figsize=(14, 10), sharey=True, sharex=True,\n",
    "                       gridspec_kw={\"hspace\": 0.15, \"wspace\": 0.05})\n",
    "for idx, topic in enumerate(order_topics):\n",
    "    for idy, df in enumerate([df_pageviews_results, df_pageviews_norm_results, df_pageviews_norm_results2]):\n",
    "        row = dict(df[df.topic == topic].iloc[0])\n",
    "        marker = \".\" if row[\"pval\"] else \"x\"\n",
    "\n",
    "        axes[idy].scatter([row[\"val\"]], [idx], color=\"black\", marker=marker, zorder=2)\n",
    "        axes[idy].plot([row[\"low\"], row[\"high\"]], [idx, idx], color=\"#e41a1c\", zorder=1)\n",
    "        axes[idy].axhline(idx+0.5, lw=0.5, ls=\":\", color='black', alpha=0.5)\n",
    "\n",
    "    _ = axes[idy].set_yticks(range(0, idx+1))\n",
    "    _ = axes[idy].set_ylim([-0.5,idx+0.5])\n",
    "    _ = axes[idy].set_xlim([-0.7, 0.7])\n",
    "\n",
    "acc = 0\n",
    "trans = transforms.blended_transform_factory(\n",
    "     axes[2].transAxes, axes[2].transData)\n",
    "\n",
    "\n",
    "for x, color, title, in colors_z:\n",
    "    for idy in range(3):\n",
    "        axes[idy].fill_between(x=[-0.7, 0.7], y1=idx+1 - acc - 0.5, y2=idx+1 - acc - x - 0.5, color=color, alpha=0.3)\n",
    "        \n",
    "    topy = idx - acc\n",
    "    boty =  idx +1 - acc - x\n",
    "\n",
    "    plt.plot([1.02, 1.05, 1.05, 1.02], [topy, topy, boty ,boty], transform=trans, clip_on=False, color=\"gray\")\n",
    "    plt.text(1.06, (topy + boty)/2, title, transform=trans,  color=\"gray\", va=\"center\")\n",
    "     \n",
    "    acc += x\n",
    "    \n",
    "\n",
    "_ = axes[0].set_yticklabels([v.split(\".\")[-1].replace(\"*\", \"\").replace(\"&\", \"\\&\") for v in order_topics])\n",
    "\n",
    "for ax in axes:\n",
    "    ax.axvline(0, zorder=0, color=\"black\", ls=\"-\", alpha=0.3)\n",
    "    \n",
    "# boxes\n",
    "vals = [\n",
    "    (0.23, 0.36),\n",
    "    (0.36, 0.76),\n",
    "    (0.23, 0.76),\n",
    "]\n",
    "\n",
    "titles = [\n",
    "    '(a) Before mobility changepoint\\nvs.\\n After mobility changepoint',\n",
    "    '(b) After mobility changepoint\\nvs.\\n After return to baseline',\n",
    "    '(c) Before mobility changepoint \\nvs.\\n After return to baseline'\n",
    "]\n",
    "\n",
    "for val, tit, ax in zip(vals, titles, axes):\n",
    "    ax.plot([0.3, 0.3], [1.02, 1.05], clip_on=False, transform=ax.transAxes, color=\"gray\")\n",
    "    ax.text(0.3, 1.051, \"mobility\",  transform=ax.transAxes, color=\"gray\",  ha=\"center\", va=\"bottom\")\n",
    "    ax.plot([0.7, 0.7], [1.02, 1.05], clip_on=False, transform=ax.transAxes, color=\"gray\")\n",
    "    ax.text(0.7, 1.051, \"normality\",  transform=ax.transAxes, color=\"gray\",  ha=\"center\", va=\"bottom\")\n",
    "\n",
    "    ax.text(val[0], 1.035, \"pre \",  transform=ax.transAxes, color=\"gray\",  ha=\"center\", va=\"center\", zorder=10,\n",
    "                     bbox={'facecolor':'white','alpha':1,'edgecolor':'tab:orange','pad':3})\n",
    "    ax.text(val[1] + 0.01, 1.035, \"post\",  transform=ax.transAxes, color=\"gray\",  ha=\"center\", va=\"center\", zorder=10,\n",
    "           bbox={'facecolor':'white','alpha':1,'edgecolor':'tab:purple','pad':3})\n",
    "\n",
    "    ax.plot([0.15, 0.15, 0.85, 0.85, 0.15], [1.01, 1.07125, 1.07125, 1.01, 1.01], \n",
    "            clip_on=False, transform=ax.transAxes, color=\"black\", \n",
    "            lw=0.5, ls=\":\")\n",
    "    ax.text(0.5, 1.075, tit, transform=ax.transAxes, size=12, ha=\"center\", va=\"bottom\")\n",
    "    ax.tick_params(axis='y', which='both', labelsize=11)\n",
    "    ax.set_xlabel(\"Relative Increase ($\\log_e$)\", size=14)\n",
    "\n",
    "set_size(fig, (14, 10))\n",
    "fig.savefig(\"../images/topics_master.pdf\", bbox_inches=\"tight\")"
   ]
  },
  {
   "cell_type": "markdown",
   "metadata": {},
   "source": [
    "---"
   ]
  }
 ],
 "metadata": {
  "kernelspec": {
   "display_name": "Python 3 (ipykernel)",
   "language": "python",
   "name": "python3"
  },
  "language_info": {
   "codemirror_mode": {
    "name": "ipython",
    "version": 3
   },
   "file_extension": ".py",
   "mimetype": "text/x-python",
   "name": "python",
   "nbconvert_exporter": "python",
   "pygments_lexer": "ipython3",
   "version": "3.9.16"
  },
  "pycharm": {
   "stem_cell": {
    "cell_type": "raw",
    "metadata": {
     "collapsed": false
    },
    "source": []
   }
  }
 },
 "nbformat": 4,
 "nbformat_minor": 4
}
